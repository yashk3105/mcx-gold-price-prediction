{
 "cells": [
  {
   "cell_type": "markdown",
   "metadata": {
    "id": "ZAwWTnEjATnl"
   },
   "source": [
    "# Web Scraper"
   ]
  },
  {
   "cell_type": "markdown",
   "metadata": {
    "id": "_bNgqed0A3Ds"
   },
   "source": [
    "## Setup"
   ]
  },
  {
   "cell_type": "code",
   "execution_count": 2,
   "metadata": {
    "id": "gTUxg75P_ocz"
   },
   "outputs": [
    {
     "ename": "ModuleNotFoundError",
     "evalue": "No module named 'requests'",
     "output_type": "error",
     "traceback": [
      "\u001b[1;31m---------------------------------------------------------------------------\u001b[0m",
      "\u001b[1;31mModuleNotFoundError\u001b[0m                       Traceback (most recent call last)",
      "\u001b[1;32m<ipython-input-2-99506e82b23c>\u001b[0m in \u001b[0;36m<module>\u001b[1;34m\u001b[0m\n\u001b[0;32m      3\u001b[0m \u001b[1;32mimport\u001b[0m \u001b[0mpandas\u001b[0m \u001b[1;32mas\u001b[0m \u001b[0mpd\u001b[0m\u001b[1;33m\u001b[0m\u001b[1;33m\u001b[0m\u001b[0m\n\u001b[0;32m      4\u001b[0m \u001b[1;32mimport\u001b[0m \u001b[0mnumpy\u001b[0m \u001b[1;32mas\u001b[0m \u001b[0mnp\u001b[0m\u001b[1;33m\u001b[0m\u001b[1;33m\u001b[0m\u001b[0m\n\u001b[1;32m----> 5\u001b[1;33m \u001b[1;32mimport\u001b[0m \u001b[0mrequests\u001b[0m\u001b[1;33m\u001b[0m\u001b[1;33m\u001b[0m\u001b[0m\n\u001b[0m",
      "\u001b[1;31mModuleNotFoundError\u001b[0m: No module named 'requests'"
     ]
    }
   ],
   "source": [
    "from datetime import datetime\n",
    "from datetime import date\n",
    "import pandas as pd\n",
    "import numpy as np\n",
    "import requests"
   ]
  },
  {
   "cell_type": "code",
   "execution_count": 2,
   "metadata": {
    "id": "eU3I8l4wBVzB"
   },
   "outputs": [],
   "source": [
    "start_date_str = 'Dec 19, 2011'\n",
    "start_date = datetime.strptime(start_date_str, '%b %d, %Y').date()\n",
    "today = date.today()\n",
    "\n",
    "days = today - start_date\n",
    "st_date = 1324233000\n",
    "end_date = (1324233000 + ((days.days + 1) * 86400)) "
   ]
  },
  {
   "cell_type": "markdown",
   "metadata": {
    "id": "-RkabKkJKeW0"
   },
   "source": [
    "Data Source: [investing.com](https://in.investing.com/commodities/refined-gold-historical-data?cid=49776)"
   ]
  },
  {
   "cell_type": "code",
   "execution_count": 3,
   "metadata": {
    "id": "TrmQGF8FBbGj"
   },
   "outputs": [],
   "source": [
    "URL = 'https://in.investing.com/commodities/refined-gold-historical-data?cid=49776&end_date=' + str(end_date) + '&st_date=' + str(st_date)"
   ]
  },
  {
   "cell_type": "code",
   "execution_count": 4,
   "metadata": {
    "id": "4FhDxEcXttaJ"
   },
   "outputs": [],
   "source": [
    "header = {\n",
    "  \"User-Agent\": \"Mozilla/5.0 (X11; Linux x86_64) AppleWebKit/537.36 (KHTML, like Gecko) Chrome/50.0.2661.75 Safari/537.36\",\n",
    "  \"X-Requested-With\": \"XMLHttpRequest\"\n",
    "}\n",
    "\n",
    "r = requests.get(URL, headers=header)\n",
    "\n",
    "df = pd.read_html(r.text, header=0, parse_dates=True)[1]\n",
    "df = df.set_index('Date')\n"
   ]
  },
  {
   "cell_type": "code",
   "execution_count": 5,
   "metadata": {
    "colab": {
     "base_uri": "https://localhost:8080/",
     "height": 450
    },
    "id": "2j7lwb6vwu5Q",
    "outputId": "408ad277-679c-438d-cdad-b4ad129003f7"
   },
   "outputs": [
    {
     "data": {
      "text/html": [
       "<div>\n",
       "<style scoped>\n",
       "    .dataframe tbody tr th:only-of-type {\n",
       "        vertical-align: middle;\n",
       "    }\n",
       "\n",
       "    .dataframe tbody tr th {\n",
       "        vertical-align: top;\n",
       "    }\n",
       "\n",
       "    .dataframe thead th {\n",
       "        text-align: right;\n",
       "    }\n",
       "</style>\n",
       "<table border=\"1\" class=\"dataframe\">\n",
       "  <thead>\n",
       "    <tr style=\"text-align: right;\">\n",
       "      <th></th>\n",
       "      <th>Price</th>\n",
       "      <th>Open</th>\n",
       "      <th>High</th>\n",
       "      <th>Low</th>\n",
       "      <th>Volume</th>\n",
       "      <th>Chg%</th>\n",
       "    </tr>\n",
       "    <tr>\n",
       "      <th>Date</th>\n",
       "      <th></th>\n",
       "      <th></th>\n",
       "      <th></th>\n",
       "      <th></th>\n",
       "      <th></th>\n",
       "      <th></th>\n",
       "    </tr>\n",
       "  </thead>\n",
       "  <tbody>\n",
       "    <tr>\n",
       "      <th>Dec 29, 2020</th>\n",
       "      <td>50039</td>\n",
       "      <td>50051</td>\n",
       "      <td>50195</td>\n",
       "      <td>49860</td>\n",
       "      <td>9.45K</td>\n",
       "      <td>0.05%</td>\n",
       "    </tr>\n",
       "    <tr>\n",
       "      <th>Dec 28, 2020</th>\n",
       "      <td>50013</td>\n",
       "      <td>50200</td>\n",
       "      <td>50580</td>\n",
       "      <td>49915</td>\n",
       "      <td>11.88K</td>\n",
       "      <td>-0.12%</td>\n",
       "    </tr>\n",
       "    <tr>\n",
       "      <th>Dec 24, 2020</th>\n",
       "      <td>50073</td>\n",
       "      <td>50151</td>\n",
       "      <td>50186</td>\n",
       "      <td>49878</td>\n",
       "      <td>7.96K</td>\n",
       "      <td>-0.15%</td>\n",
       "    </tr>\n",
       "    <tr>\n",
       "      <th>Dec 23, 2020</th>\n",
       "      <td>50149</td>\n",
       "      <td>50042</td>\n",
       "      <td>50280</td>\n",
       "      <td>49680</td>\n",
       "      <td>11.40K</td>\n",
       "      <td>0.14%</td>\n",
       "    </tr>\n",
       "    <tr>\n",
       "      <th>Dec 22, 2020</th>\n",
       "      <td>50081</td>\n",
       "      <td>50527</td>\n",
       "      <td>50540</td>\n",
       "      <td>49923</td>\n",
       "      <td>9.65K</td>\n",
       "      <td>-0.66%</td>\n",
       "    </tr>\n",
       "    <tr>\n",
       "      <th>...</th>\n",
       "      <td>...</td>\n",
       "      <td>...</td>\n",
       "      <td>...</td>\n",
       "      <td>...</td>\n",
       "      <td>...</td>\n",
       "      <td>...</td>\n",
       "    </tr>\n",
       "    <tr>\n",
       "      <th>Dec 23, 2011</th>\n",
       "      <td>27779</td>\n",
       "      <td>27747</td>\n",
       "      <td>27820</td>\n",
       "      <td>27721</td>\n",
       "      <td>23.57K</td>\n",
       "      <td>0.29%</td>\n",
       "    </tr>\n",
       "    <tr>\n",
       "      <th>Dec 22, 2011</th>\n",
       "      <td>27698</td>\n",
       "      <td>27751</td>\n",
       "      <td>27806</td>\n",
       "      <td>27591</td>\n",
       "      <td>42.33K</td>\n",
       "      <td>-0.40%</td>\n",
       "    </tr>\n",
       "    <tr>\n",
       "      <th>Dec 21, 2011</th>\n",
       "      <td>27809</td>\n",
       "      <td>27920</td>\n",
       "      <td>28106</td>\n",
       "      <td>27733</td>\n",
       "      <td>51.10K</td>\n",
       "      <td>-0.21%</td>\n",
       "    </tr>\n",
       "    <tr>\n",
       "      <th>Dec 20, 2011</th>\n",
       "      <td>27867</td>\n",
       "      <td>27685</td>\n",
       "      <td>27905</td>\n",
       "      <td>27652</td>\n",
       "      <td>36.71K</td>\n",
       "      <td>0.63%</td>\n",
       "    </tr>\n",
       "    <tr>\n",
       "      <th>Dec 19, 2011</th>\n",
       "      <td>27692</td>\n",
       "      <td>27612</td>\n",
       "      <td>27795</td>\n",
       "      <td>27500</td>\n",
       "      <td>41.78K</td>\n",
       "      <td>2.91%</td>\n",
       "    </tr>\n",
       "  </tbody>\n",
       "</table>\n",
       "<p>2426 rows × 6 columns</p>\n",
       "</div>"
      ],
      "text/plain": [
       "              Price   Open   High    Low  Volume    Chg%\n",
       "Date                                                    \n",
       "Dec 29, 2020  50039  50051  50195  49860   9.45K   0.05%\n",
       "Dec 28, 2020  50013  50200  50580  49915  11.88K  -0.12%\n",
       "Dec 24, 2020  50073  50151  50186  49878   7.96K  -0.15%\n",
       "Dec 23, 2020  50149  50042  50280  49680  11.40K   0.14%\n",
       "Dec 22, 2020  50081  50527  50540  49923   9.65K  -0.66%\n",
       "...             ...    ...    ...    ...     ...     ...\n",
       "Dec 23, 2011  27779  27747  27820  27721  23.57K   0.29%\n",
       "Dec 22, 2011  27698  27751  27806  27591  42.33K  -0.40%\n",
       "Dec 21, 2011  27809  27920  28106  27733  51.10K  -0.21%\n",
       "Dec 20, 2011  27867  27685  27905  27652  36.71K   0.63%\n",
       "Dec 19, 2011  27692  27612  27795  27500  41.78K   2.91%\n",
       "\n",
       "[2426 rows x 6 columns]"
      ]
     },
     "execution_count": 5,
     "metadata": {
      "tags": []
     },
     "output_type": "execute_result"
    }
   ],
   "source": [
    "df"
   ]
  },
  {
   "cell_type": "code",
   "execution_count": 6,
   "metadata": {
    "id": "RtHXM9v0yRDC"
   },
   "outputs": [],
   "source": [
    "df.to_csv('data.csv')"
   ]
  }
 ],
 "metadata": {
  "colab": {
   "name": "Web Scraper.ipynb",
   "provenance": []
  },
  "kernelspec": {
   "display_name": "Python 3",
   "language": "python",
   "name": "python3"
  },
  "language_info": {
   "codemirror_mode": {
    "name": "ipython",
    "version": 3
   },
   "file_extension": ".py",
   "mimetype": "text/x-python",
   "name": "python",
   "nbconvert_exporter": "python",
   "pygments_lexer": "ipython3",
   "version": "3.9.1"
  }
 },
 "nbformat": 4,
 "nbformat_minor": 1
}
